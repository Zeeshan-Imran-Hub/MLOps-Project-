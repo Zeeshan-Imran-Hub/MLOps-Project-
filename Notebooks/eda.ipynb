{
 "nbformat": 4,
 "nbformat_minor": 0,
 "metadata": {
  "colab": {
   "provenance": [],
   "mount_file_id": "1dfpqLqSHLG3NtHTH96smOi0XZG3R-MT-",
   "authorship_tag": "ABX9TyMM0B7KplU5XxxeERX0v9VM"
  },
  "kernelspec": {
   "name": "python3",
   "display_name": "Python 3 (ipykernel)",
   "language": "python"
  },
  "language_info": {
   "name": "python"
  }
 },
 "cells": [
  {
   "cell_type": "code",
   "metadata": {
    "id": "u42WDVSjy8eY",
    "colab": {
     "base_uri": "https://localhost:8080/",
     "height": 1000
    },
    "executionInfo": {
     "status": "ok",
     "timestamp": 1721979741005,
     "user_tz": -180,
     "elapsed": 760,
     "user": {
      "displayName": "Zeeshan Imran",
      "userId": "14034811337666499856"
     }
    },
    "outputId": "95283aed-b0a8-492a-a272-3e64ca6e18ed",
    "ExecuteTime": {
     "end_time": "2024-07-30T20:29:59.683862Z",
     "start_time": "2024-07-30T20:29:59.221143Z"
    }
   },
   "source": [
    "# Setup feedback system\n",
    "\n",
    "\n",
    "import matplotlib.pyplot as plt\n",
    "import numpy as np\n",
    "import pandas as pd\n",
    "import seaborn as sns\n",
    "from scipy.stats import skew, yeojohnson\n",
    "from sklearn.feature_selection import mutual_info_classif\n",
    "\n",
    "# Load data\n",
    "df = pd.read_csv(\"C:/Users/ASUS/Desktop/archive1/healthcare-dataset-stroke-data.csv\")  # Update this path to your dataset\n",
    "\n",
    "# Display first few rows of the dataset\n",
    "print(df.head())\n",
    "print(\"-\" * 110)\n",
    "df.info()\n",
    "print(\"-\" * 110)\n",
    "df.describe()"
   ],
   "outputs": [
    {
     "name": "stdout",
     "output_type": "stream",
     "text": [
      "      id  gender   age  hypertension  heart_disease ever_married  \\\n",
      "0   9046    Male  67.0             0              1          Yes   \n",
      "1  51676  Female  61.0             0              0          Yes   \n",
      "2  31112    Male  80.0             0              1          Yes   \n",
      "3  60182  Female  49.0             0              0          Yes   \n",
      "4   1665  Female  79.0             1              0          Yes   \n",
      "\n",
      "       work_type Residence_type  avg_glucose_level   bmi   smoking_status  \\\n",
      "0        Private          Urban             228.69  36.6  formerly smoked   \n",
      "1  Self-employed          Rural             202.21   NaN     never smoked   \n",
      "2        Private          Rural             105.92  32.5     never smoked   \n",
      "3        Private          Urban             171.23  34.4           smokes   \n",
      "4  Self-employed          Rural             174.12  24.0     never smoked   \n",
      "\n",
      "   stroke  \n",
      "0       1  \n",
      "1       1  \n",
      "2       1  \n",
      "3       1  \n",
      "4       1  \n",
      "--------------------------------------------------------------------------------------------------------------\n",
      "<class 'pandas.core.frame.DataFrame'>\n",
      "RangeIndex: 5110 entries, 0 to 5109\n",
      "Data columns (total 12 columns):\n",
      " #   Column             Non-Null Count  Dtype  \n",
      "---  ------             --------------  -----  \n",
      " 0   id                 5110 non-null   int64  \n",
      " 1   gender             5110 non-null   object \n",
      " 2   age                5110 non-null   float64\n",
      " 3   hypertension       5110 non-null   int64  \n",
      " 4   heart_disease      5110 non-null   int64  \n",
      " 5   ever_married       5110 non-null   object \n",
      " 6   work_type          5110 non-null   object \n",
      " 7   Residence_type     5110 non-null   object \n",
      " 8   avg_glucose_level  5110 non-null   float64\n",
      " 9   bmi                4909 non-null   float64\n",
      " 10  smoking_status     5110 non-null   object \n",
      " 11  stroke             5110 non-null   int64  \n",
      "dtypes: float64(3), int64(4), object(5)\n",
      "memory usage: 479.2+ KB\n",
      "--------------------------------------------------------------------------------------------------------------\n"
     ]
    },
    {
     "data": {
      "text/plain": [
       "                 id          age  hypertension  heart_disease  \\\n",
       "count   5110.000000  5110.000000   5110.000000    5110.000000   \n",
       "mean   36517.829354    43.226614      0.097456       0.054012   \n",
       "std    21161.721625    22.612647      0.296607       0.226063   \n",
       "min       67.000000     0.080000      0.000000       0.000000   \n",
       "25%    17741.250000    25.000000      0.000000       0.000000   \n",
       "50%    36932.000000    45.000000      0.000000       0.000000   \n",
       "75%    54682.000000    61.000000      0.000000       0.000000   \n",
       "max    72940.000000    82.000000      1.000000       1.000000   \n",
       "\n",
       "       avg_glucose_level          bmi       stroke  \n",
       "count        5110.000000  4909.000000  5110.000000  \n",
       "mean          106.147677    28.893237     0.048728  \n",
       "std            45.283560     7.854067     0.215320  \n",
       "min            55.120000    10.300000     0.000000  \n",
       "25%            77.245000    23.500000     0.000000  \n",
       "50%            91.885000    28.100000     0.000000  \n",
       "75%           114.090000    33.100000     0.000000  \n",
       "max           271.740000    97.600000     1.000000  "
      ],
      "text/html": [
       "<div>\n",
       "<style scoped>\n",
       "    .dataframe tbody tr th:only-of-type {\n",
       "        vertical-align: middle;\n",
       "    }\n",
       "\n",
       "    .dataframe tbody tr th {\n",
       "        vertical-align: top;\n",
       "    }\n",
       "\n",
       "    .dataframe thead th {\n",
       "        text-align: right;\n",
       "    }\n",
       "</style>\n",
       "<table border=\"1\" class=\"dataframe\">\n",
       "  <thead>\n",
       "    <tr style=\"text-align: right;\">\n",
       "      <th></th>\n",
       "      <th>id</th>\n",
       "      <th>age</th>\n",
       "      <th>hypertension</th>\n",
       "      <th>heart_disease</th>\n",
       "      <th>avg_glucose_level</th>\n",
       "      <th>bmi</th>\n",
       "      <th>stroke</th>\n",
       "    </tr>\n",
       "  </thead>\n",
       "  <tbody>\n",
       "    <tr>\n",
       "      <th>count</th>\n",
       "      <td>5110.000000</td>\n",
       "      <td>5110.000000</td>\n",
       "      <td>5110.000000</td>\n",
       "      <td>5110.000000</td>\n",
       "      <td>5110.000000</td>\n",
       "      <td>4909.000000</td>\n",
       "      <td>5110.000000</td>\n",
       "    </tr>\n",
       "    <tr>\n",
       "      <th>mean</th>\n",
       "      <td>36517.829354</td>\n",
       "      <td>43.226614</td>\n",
       "      <td>0.097456</td>\n",
       "      <td>0.054012</td>\n",
       "      <td>106.147677</td>\n",
       "      <td>28.893237</td>\n",
       "      <td>0.048728</td>\n",
       "    </tr>\n",
       "    <tr>\n",
       "      <th>std</th>\n",
       "      <td>21161.721625</td>\n",
       "      <td>22.612647</td>\n",
       "      <td>0.296607</td>\n",
       "      <td>0.226063</td>\n",
       "      <td>45.283560</td>\n",
       "      <td>7.854067</td>\n",
       "      <td>0.215320</td>\n",
       "    </tr>\n",
       "    <tr>\n",
       "      <th>min</th>\n",
       "      <td>67.000000</td>\n",
       "      <td>0.080000</td>\n",
       "      <td>0.000000</td>\n",
       "      <td>0.000000</td>\n",
       "      <td>55.120000</td>\n",
       "      <td>10.300000</td>\n",
       "      <td>0.000000</td>\n",
       "    </tr>\n",
       "    <tr>\n",
       "      <th>25%</th>\n",
       "      <td>17741.250000</td>\n",
       "      <td>25.000000</td>\n",
       "      <td>0.000000</td>\n",
       "      <td>0.000000</td>\n",
       "      <td>77.245000</td>\n",
       "      <td>23.500000</td>\n",
       "      <td>0.000000</td>\n",
       "    </tr>\n",
       "    <tr>\n",
       "      <th>50%</th>\n",
       "      <td>36932.000000</td>\n",
       "      <td>45.000000</td>\n",
       "      <td>0.000000</td>\n",
       "      <td>0.000000</td>\n",
       "      <td>91.885000</td>\n",
       "      <td>28.100000</td>\n",
       "      <td>0.000000</td>\n",
       "    </tr>\n",
       "    <tr>\n",
       "      <th>75%</th>\n",
       "      <td>54682.000000</td>\n",
       "      <td>61.000000</td>\n",
       "      <td>0.000000</td>\n",
       "      <td>0.000000</td>\n",
       "      <td>114.090000</td>\n",
       "      <td>33.100000</td>\n",
       "      <td>0.000000</td>\n",
       "    </tr>\n",
       "    <tr>\n",
       "      <th>max</th>\n",
       "      <td>72940.000000</td>\n",
       "      <td>82.000000</td>\n",
       "      <td>1.000000</td>\n",
       "      <td>1.000000</td>\n",
       "      <td>271.740000</td>\n",
       "      <td>97.600000</td>\n",
       "      <td>1.000000</td>\n",
       "    </tr>\n",
       "  </tbody>\n",
       "</table>\n",
       "</div>"
      ]
     },
     "execution_count": 1,
     "metadata": {},
     "output_type": "execute_result"
    }
   ],
   "execution_count": 1
  },
  {
   "cell_type": "code",
   "source": "",
   "metadata": {
    "id": "4BD-qV9TLRUQ",
    "ExecuteTime": {
     "end_time": "2024-07-30T20:29:59.699082Z",
     "start_time": "2024-07-30T20:29:59.685849Z"
    }
   },
   "outputs": [],
   "execution_count": 1
  },
  {
   "cell_type": "code",
   "source": [
    "cat_features = [feature for feature in df.columns if df[feature].dtype == 'object']\n",
    "num_features = [feature for feature in df.columns if df[feature].dtype != 'object']\n",
    "\n",
    "# Display categorical features\n",
    "print(\"Categorical Features:\")\n",
    "print(cat_features)\n",
    "\n",
    "# Display numerical features\n",
    "print(\"\\nNumerical Features:\")\n",
    "print(num_features)"
   ],
   "metadata": {
    "colab": {
     "base_uri": "https://localhost:8080/"
    },
    "id": "MI0ppxILpkLW",
    "executionInfo": {
     "status": "ok",
     "timestamp": 1721979745784,
     "user_tz": -180,
     "elapsed": 615,
     "user": {
      "displayName": "Zeeshan Imran",
      "userId": "14034811337666499856"
     }
    },
    "outputId": "3b5f59b8-fdff-4692-d8f4-67d1c7245f9d",
    "ExecuteTime": {
     "end_time": "2024-07-30T20:29:59.714860Z",
     "start_time": "2024-07-30T20:29:59.701149Z"
    }
   },
   "outputs": [
    {
     "name": "stdout",
     "output_type": "stream",
     "text": [
      "Categorical Features:\n",
      "['gender', 'ever_married', 'work_type', 'Residence_type', 'smoking_status']\n",
      "\n",
      "Numerical Features:\n",
      "['id', 'age', 'hypertension', 'heart_disease', 'avg_glucose_level', 'bmi', 'stroke']\n"
     ]
    }
   ],
   "execution_count": 2
  },
  {
   "cell_type": "code",
   "source": [
    "from sklearn.impute import KNNImputer\n",
    "imputer = KNNImputer(n_neighbors=5)\n",
    "for feature in num_features:\n",
    "    df[feature] = imputer.fit_transform(df[feature].values.reshape(-1,1))\n",
    "\n",
    "# Handling missing values - Fill NaN with the mode for categorical features\n",
    "'''for feature in cat_features:\n",
    "    df[feature].fillna(df[feature].mode()[0], inplace=True)\n",
    "\n",
    "# Encoding categorical variables\n",
    "df = pd.get_dummies(df, columns=cat_features, drop_first=True)\n",
    "binary_columns = ['gender_Male', 'ever_married_Yes', 'work_type_Never_worked', 'work_type_Private', 'work_type_Self-employed', 'work_type_children', 'Residence_type_Urban', 'smoking_status_formerly smoked', 'smoking_status_never smoked', 'smoking_status_smokes']\n",
    "for col in binary_columns:\n",
    "    df[col] = df[col].astype(int)'''\n",
    "\n",
    "print(df.head())\n",
    "print(\"-\" * 110)\n",
    "df.info()\n",
    "print(\"-\" * 110)\n",
    "df.describe()\n"
   ],
   "metadata": {
    "colab": {
     "base_uri": "https://localhost:8080/",
     "height": 1000
    },
    "id": "rCugvhFhbCqM",
    "executionInfo": {
     "status": "ok",
     "timestamp": 1721979749314,
     "user_tz": -180,
     "elapsed": 746,
     "user": {
      "displayName": "Zeeshan Imran",
      "userId": "14034811337666499856"
     }
    },
    "outputId": "933ccd98-a080-4cfa-c933-adf66568c213",
    "ExecuteTime": {
     "end_time": "2024-07-30T20:30:44.469770Z",
     "start_time": "2024-07-30T20:30:44.393118Z"
    }
   },
   "outputs": [
    {
     "name": "stdout",
     "output_type": "stream",
     "text": [
      "        id  gender   age  hypertension  heart_disease ever_married  \\\n",
      "0   9046.0    Male  67.0           0.0            1.0          Yes   \n",
      "1  51676.0  Female  61.0           0.0            0.0          Yes   \n",
      "2  31112.0    Male  80.0           0.0            1.0          Yes   \n",
      "3  60182.0  Female  49.0           0.0            0.0          Yes   \n",
      "4   1665.0  Female  79.0           1.0            0.0          Yes   \n",
      "\n",
      "       work_type Residence_type  avg_glucose_level        bmi  \\\n",
      "0        Private          Urban             228.69  36.600000   \n",
      "1  Self-employed          Rural             202.21  28.893237   \n",
      "2        Private          Rural             105.92  32.500000   \n",
      "3        Private          Urban             171.23  34.400000   \n",
      "4  Self-employed          Rural             174.12  24.000000   \n",
      "\n",
      "    smoking_status  stroke  \n",
      "0  formerly smoked     1.0  \n",
      "1     never smoked     1.0  \n",
      "2     never smoked     1.0  \n",
      "3           smokes     1.0  \n",
      "4     never smoked     1.0  \n",
      "--------------------------------------------------------------------------------------------------------------\n",
      "<class 'pandas.core.frame.DataFrame'>\n",
      "RangeIndex: 5110 entries, 0 to 5109\n",
      "Data columns (total 12 columns):\n",
      " #   Column             Non-Null Count  Dtype  \n",
      "---  ------             --------------  -----  \n",
      " 0   id                 5110 non-null   float64\n",
      " 1   gender             5110 non-null   object \n",
      " 2   age                5110 non-null   float64\n",
      " 3   hypertension       5110 non-null   float64\n",
      " 4   heart_disease      5110 non-null   float64\n",
      " 5   ever_married       5110 non-null   object \n",
      " 6   work_type          5110 non-null   object \n",
      " 7   Residence_type     5110 non-null   object \n",
      " 8   avg_glucose_level  5110 non-null   float64\n",
      " 9   bmi                5110 non-null   float64\n",
      " 10  smoking_status     5110 non-null   object \n",
      " 11  stroke             5110 non-null   float64\n",
      "dtypes: float64(7), object(5)\n",
      "memory usage: 479.2+ KB\n",
      "--------------------------------------------------------------------------------------------------------------\n"
     ]
    },
    {
     "data": {
      "text/plain": [
       "                 id          age  hypertension  heart_disease  \\\n",
       "count   5110.000000  5110.000000   5110.000000    5110.000000   \n",
       "mean   36517.829354    43.226614      0.097456       0.054012   \n",
       "std    21161.721625    22.612647      0.296607       0.226063   \n",
       "min       67.000000     0.080000      0.000000       0.000000   \n",
       "25%    17741.250000    25.000000      0.000000       0.000000   \n",
       "50%    36932.000000    45.000000      0.000000       0.000000   \n",
       "75%    54682.000000    61.000000      0.000000       0.000000   \n",
       "max    72940.000000    82.000000      1.000000       1.000000   \n",
       "\n",
       "       avg_glucose_level          bmi       stroke  \n",
       "count        5110.000000  5110.000000  5110.000000  \n",
       "mean          106.147677    28.893237     0.048728  \n",
       "std            45.283560     7.698018     0.215320  \n",
       "min            55.120000    10.300000     0.000000  \n",
       "25%            77.245000    23.800000     0.000000  \n",
       "50%            91.885000    28.400000     0.000000  \n",
       "75%           114.090000    32.800000     0.000000  \n",
       "max           271.740000    97.600000     1.000000  "
      ],
      "text/html": [
       "<div>\n",
       "<style scoped>\n",
       "    .dataframe tbody tr th:only-of-type {\n",
       "        vertical-align: middle;\n",
       "    }\n",
       "\n",
       "    .dataframe tbody tr th {\n",
       "        vertical-align: top;\n",
       "    }\n",
       "\n",
       "    .dataframe thead th {\n",
       "        text-align: right;\n",
       "    }\n",
       "</style>\n",
       "<table border=\"1\" class=\"dataframe\">\n",
       "  <thead>\n",
       "    <tr style=\"text-align: right;\">\n",
       "      <th></th>\n",
       "      <th>id</th>\n",
       "      <th>age</th>\n",
       "      <th>hypertension</th>\n",
       "      <th>heart_disease</th>\n",
       "      <th>avg_glucose_level</th>\n",
       "      <th>bmi</th>\n",
       "      <th>stroke</th>\n",
       "    </tr>\n",
       "  </thead>\n",
       "  <tbody>\n",
       "    <tr>\n",
       "      <th>count</th>\n",
       "      <td>5110.000000</td>\n",
       "      <td>5110.000000</td>\n",
       "      <td>5110.000000</td>\n",
       "      <td>5110.000000</td>\n",
       "      <td>5110.000000</td>\n",
       "      <td>5110.000000</td>\n",
       "      <td>5110.000000</td>\n",
       "    </tr>\n",
       "    <tr>\n",
       "      <th>mean</th>\n",
       "      <td>36517.829354</td>\n",
       "      <td>43.226614</td>\n",
       "      <td>0.097456</td>\n",
       "      <td>0.054012</td>\n",
       "      <td>106.147677</td>\n",
       "      <td>28.893237</td>\n",
       "      <td>0.048728</td>\n",
       "    </tr>\n",
       "    <tr>\n",
       "      <th>std</th>\n",
       "      <td>21161.721625</td>\n",
       "      <td>22.612647</td>\n",
       "      <td>0.296607</td>\n",
       "      <td>0.226063</td>\n",
       "      <td>45.283560</td>\n",
       "      <td>7.698018</td>\n",
       "      <td>0.215320</td>\n",
       "    </tr>\n",
       "    <tr>\n",
       "      <th>min</th>\n",
       "      <td>67.000000</td>\n",
       "      <td>0.080000</td>\n",
       "      <td>0.000000</td>\n",
       "      <td>0.000000</td>\n",
       "      <td>55.120000</td>\n",
       "      <td>10.300000</td>\n",
       "      <td>0.000000</td>\n",
       "    </tr>\n",
       "    <tr>\n",
       "      <th>25%</th>\n",
       "      <td>17741.250000</td>\n",
       "      <td>25.000000</td>\n",
       "      <td>0.000000</td>\n",
       "      <td>0.000000</td>\n",
       "      <td>77.245000</td>\n",
       "      <td>23.800000</td>\n",
       "      <td>0.000000</td>\n",
       "    </tr>\n",
       "    <tr>\n",
       "      <th>50%</th>\n",
       "      <td>36932.000000</td>\n",
       "      <td>45.000000</td>\n",
       "      <td>0.000000</td>\n",
       "      <td>0.000000</td>\n",
       "      <td>91.885000</td>\n",
       "      <td>28.400000</td>\n",
       "      <td>0.000000</td>\n",
       "    </tr>\n",
       "    <tr>\n",
       "      <th>75%</th>\n",
       "      <td>54682.000000</td>\n",
       "      <td>61.000000</td>\n",
       "      <td>0.000000</td>\n",
       "      <td>0.000000</td>\n",
       "      <td>114.090000</td>\n",
       "      <td>32.800000</td>\n",
       "      <td>0.000000</td>\n",
       "    </tr>\n",
       "    <tr>\n",
       "      <th>max</th>\n",
       "      <td>72940.000000</td>\n",
       "      <td>82.000000</td>\n",
       "      <td>1.000000</td>\n",
       "      <td>1.000000</td>\n",
       "      <td>271.740000</td>\n",
       "      <td>97.600000</td>\n",
       "      <td>1.000000</td>\n",
       "    </tr>\n",
       "  </tbody>\n",
       "</table>\n",
       "</div>"
      ]
     },
     "execution_count": 4,
     "metadata": {},
     "output_type": "execute_result"
    }
   ],
   "execution_count": 4
  },
  {
   "cell_type": "code",
   "source": [
    "disc_features = cat_features + [feature for feature in num_features if len(df[feature].unique()) < 10]\n",
    "cont_features = [feature for feature in num_features if feature not in disc_features]\n",
    "cont_features.remove('id')\n",
    "\n",
    "print(\"Discrete Features:\")\n",
    "print(disc_features)\n",
    "\n",
    "print(\"\\nContinuous Features:\")\n",
    "print(cont_features)"
   ],
   "metadata": {
    "colab": {
     "base_uri": "https://localhost:8080/"
    },
    "id": "O_W8Ai8jpvkv",
    "executionInfo": {
     "status": "ok",
     "timestamp": 1721979758826,
     "user_tz": -180,
     "elapsed": 399,
     "user": {
      "displayName": "Zeeshan Imran",
      "userId": "14034811337666499856"
     }
    },
    "outputId": "1b4410c3-5ce4-4932-a3f1-48bc58cedf98"
   },
   "outputs": [],
   "execution_count": null
  },
  {
   "cell_type": "code",
   "source": [
    "for col in disc_features:\n",
    "    print(f\"Feature name: {col}\")\n",
    "    print(f\"Unique values and their proportion {df[col].value_counts(normalize=True) * 100}\")\n",
    "    print(\"-\" * 50)"
   ],
   "metadata": {
    "colab": {
     "base_uri": "https://localhost:8080/"
    },
    "id": "NaUmXDpJqVVf",
    "executionInfo": {
     "status": "ok",
     "timestamp": 1721979762208,
     "user_tz": -180,
     "elapsed": 374,
     "user": {
      "displayName": "Zeeshan Imran",
      "userId": "14034811337666499856"
     }
    },
    "outputId": "1b5f8fed-487d-470d-bc31-f3e7cce53835"
   },
   "outputs": [],
   "execution_count": null
  },
  {
   "cell_type": "code",
   "source": [
    "for feature in disc_features:\n",
    "    plt.figure(figsize=(10, 6))\n",
    "    sns.countplot(x=feature, data=df)\n",
    "    plt.title(f\"Distribution of {feature}\")\n",
    "\n"
   ],
   "metadata": {
    "colab": {
     "base_uri": "https://localhost:8080/",
     "height": 1000
    },
    "id": "tgyDsrzUrWwU",
    "executionInfo": {
     "status": "ok",
     "timestamp": 1721979771797,
     "user_tz": -180,
     "elapsed": 2862,
     "user": {
      "displayName": "Zeeshan Imran",
      "userId": "14034811337666499856"
     }
    },
    "outputId": "4d7396da-a0ca-4a87-ba0a-e4598d06dc5a"
   },
   "outputs": [],
   "execution_count": null
  },
  {
   "cell_type": "code",
   "source": [
    "features_to_plot = cont_features\n",
    "\n",
    "def plot_histograms(original_df, features):\n",
    "    cont_features = len(features)\n",
    "    fig, axs = plt.subplots(cont_features, 1, figsize=(10, cont_features * 5))\n",
    "\n",
    "    for i, feature in enumerate(features):\n",
    "        # Plot original histograms\n",
    "        sns.histplot(original_df[feature], bins=30, kde=True, ax=axs[i], color='blue')\n",
    "        axs[i].set_title(f'Original Histogram of {feature}')\n",
    "        axs[i].set_xlabel(feature)\n",
    "        axs[i].set_ylabel('Frequency')\n",
    "\n",
    "    plt.tight_layout()\n",
    "    plt.show()\n",
    "\n",
    "\n",
    "plot_histograms(df,cont_features)"
   ],
   "metadata": {
    "colab": {
     "base_uri": "https://localhost:8080/",
     "height": 1000
    },
    "id": "abCFTC1pHvxo",
    "executionInfo": {
     "status": "ok",
     "timestamp": 1721979778454,
     "user_tz": -180,
     "elapsed": 2411,
     "user": {
      "displayName": "Zeeshan Imran",
      "userId": "14034811337666499856"
     }
    },
    "outputId": "323502a7-f3d6-4a53-fa1d-39536976adaa"
   },
   "outputs": [],
   "execution_count": null
  },
  {
   "cell_type": "code",
   "source": [
    "plt.figure(figsize=(10, 6))\n",
    "sns.heatmap(df[cont_features].corr(), cbar=True, annot=True, cmap='coolwarm')\n",
    "plt.title(\"Correlation Heatmap\")\n",
    "plt.show()"
   ],
   "metadata": {
    "colab": {
     "base_uri": "https://localhost:8080/",
     "height": 545
    },
    "id": "Llzm8x_rs8Ik",
    "executionInfo": {
     "status": "ok",
     "timestamp": 1721979783850,
     "user_tz": -180,
     "elapsed": 465,
     "user": {
      "displayName": "Zeeshan Imran",
      "userId": "14034811337666499856"
     }
    },
    "outputId": "09aa29fb-3f51-424e-e338-65802c63d654"
   },
   "outputs": [],
   "execution_count": null
  },
  {
   "cell_type": "code",
   "source": [
    "plt.figure(figsize=(10, 6))\n",
    "cont_features.append('stroke')\n",
    "sns.heatmap(df[cont_features].corr(), cbar=True, annot=True, cmap='coolwarm')\n",
    "plt.title(\"Correlation Heatmap\")\n",
    "plt.show()\n",
    "cont_features.remove('stroke')\n",
    "print(cont_features)"
   ],
   "metadata": {
    "colab": {
     "base_uri": "https://localhost:8080/",
     "height": 562
    },
    "id": "9o2zAxesMkhe",
    "executionInfo": {
     "status": "ok",
     "timestamp": 1721979788925,
     "user_tz": -180,
     "elapsed": 1107,
     "user": {
      "displayName": "Zeeshan Imran",
      "userId": "14034811337666499856"
     }
    },
    "outputId": "9af3359f-c9eb-4c89-f2df-fca60e264004"
   },
   "outputs": [],
   "execution_count": null
  },
  {
   "cell_type": "code",
   "source": [
    "bins = [0, 30, 50, 70, 100]\n",
    "labels = ['0-30', '31-50', '51-70', '71-100']\n",
    "df['age_group'] = pd.cut(df['age'], bins=bins, labels=labels, right=False)\n",
    "df = pd.get_dummies(df, columns=['age_group'], drop_first=True)\n",
    "\n",
    "# Ensure age_group binary columns are represented as 1 and 0\n",
    "age_group_columns = ['age_group_31-50', 'age_group_51-70', 'age_group_71-100']\n",
    "for col in age_group_columns:\n",
    "    df[col] = df[col].astype(int)"
   ],
   "metadata": {
    "id": "cDmjQxXUJ7eJ"
   },
   "outputs": [],
   "execution_count": null
  },
  {
   "cell_type": "code",
   "source": [
    "# Normalize avg_glucose_level and bmi\n",
    "df['avg_glucose_level'] = (df['avg_glucose_level'] - df['avg_glucose_level'].mean()) / df['avg_glucose_level'].max()\n",
    "df['bmi'] = (df['bmi'] - df['bmi'].mean()) / df['bmi'].max()\n",
    "\n",
    "# Drop irrelevant features\n",
    "df.drop(['id'], axis=1, inplace=True)\n",
    "\n",
    "# Display the cleaned dataset\n",
    "print(df)\n",
    "\n"
   ],
   "metadata": {
    "colab": {
     "base_uri": "https://localhost:8080/"
    },
    "id": "gD0dyPd_QAmF",
    "executionInfo": {
     "status": "ok",
     "timestamp": 1721979797399,
     "user_tz": -180,
     "elapsed": 381,
     "user": {
      "displayName": "Zeeshan Imran",
      "userId": "14034811337666499856"
     }
    },
    "outputId": "b6b835e1-450c-4459-d556-9d286aba5a6f"
   },
   "outputs": [],
   "execution_count": null
  },
  {
   "cell_type": "code",
   "source": [
    "for feature in cat_features:\n",
    "    df[feature].fillna(df[feature].mode()[0], inplace=True)\n",
    "\n",
    "# Encoding categorical variables\n",
    "df = pd.get_dummies(df, columns=cat_features, drop_first=True)\n",
    "binary_columns = ['gender_Male', 'ever_married_Yes', 'work_type_Never_worked', 'work_type_Private', 'work_type_Self-employed', 'work_type_children', 'Residence_type_Urban', 'smoking_status_formerly smoked', 'smoking_status_never smoked', 'smoking_status_smokes']\n",
    "for col in binary_columns:\n",
    "    df[col] = df[col].astype(int)\n",
    "# Define function to calculate mutual information scores\n",
    "def make_mi_scores(X, y, disc_features):\n",
    "    mi_scores = mutual_info_classif(X, y, discrete_features=disc_features)\n",
    "    mi_scores = pd.Series(mi_scores, name=\"MI Scores\", index=X.columns)\n",
    "    mi_scores = mi_scores.sort_values(ascending=False)\n",
    "    return mi_scores\n",
    "\n",
    "# Prepare the data for mutual information calculation\n",
    "X = df.copy()\n",
    "y = X.pop('stroke')\n",
    "\n",
    "# Re-identify discrete features in the encoded dataset\n",
    "disc_features_bool = [col in disc_features for col in X.columns]\n",
    "\n",
    "# Calculate mutual information scores\n",
    "mi_scores = make_mi_scores(X, y, disc_features=disc_features_bool)\n",
    "print(f\"\\nMutual Information Scores:\\n{mi_scores}\\n\")\n",
    "\n",
    "# Define function to plot mutual information scores\n",
    "def plot_mi_scores(scores):\n",
    "    scores = scores.sort_values(ascending=True)\n",
    "    width = np.arange(len(scores))\n",
    "    ticks = list(scores.index)\n",
    "    plt.barh(width, scores)\n",
    "    plt.yticks(width, ticks)\n",
    "    plt.title(\"Mutual Information Scores\")\n",
    "\n",
    "# Plot mutual information scores\n",
    "plt.figure(dpi=100, figsize=(8,5))\n",
    "plot_mi_scores(mi_scores)\n",
    "plt.show()\n",
    "\n"
   ],
   "metadata": {
    "colab": {
     "base_uri": "https://localhost:8080/",
     "height": 867
    },
    "id": "RrlODUDroWKP",
    "executionInfo": {
     "status": "ok",
     "timestamp": 1721979894996,
     "user_tz": -180,
     "elapsed": 3763,
     "user": {
      "displayName": "Zeeshan Imran",
      "userId": "14034811337666499856"
     }
    },
    "outputId": "d6a757be-2160-4a54-e5ff-7f1dd35e70bd"
   },
   "outputs": [],
   "execution_count": null
  },
  {
   "cell_type": "code",
   "source": [
    "print(cont_features)\n",
    "\n",
    "def handle_skewness(df, features, threshold=0.5):\n",
    "    transformed_df = df.copy()\n",
    "\n",
    "    for feature in features:\n",
    "        # Calculate skewness\n",
    "        feature_skewness = skew(df[feature].dropna())\n",
    "\n",
    "        # Apply Yeo-Johnson transformation if skewness is above the threshold\n",
    "        if abs(feature_skewness) > threshold:\n",
    "            transformed_df[feature], _ = yeojohnson(df[feature].dropna())\n",
    "\n",
    "    return transformed_df\n",
    "\n",
    "# Handle skewness in continious features\n",
    "df_transformed = handle_skewness(df, cont_features)\n",
    "\n",
    "# Check skewness before and after transformation\n",
    "def check_skewness(df, features):\n",
    "    skewness = df[features].apply(lambda x: skew(x.dropna()))\n",
    "    return skewness\n",
    "\n",
    "# Print skewness before and after transformation\n",
    "print(\"Skewness before transformation:\")\n",
    "print(check_skewness(df, cont_features))\n",
    "\n",
    "print(\"\\nSkewness after transformation:\")\n",
    "print(check_skewness(df_transformed, cont_features))\n",
    "\n",
    "# Plot histograms of original and transformed features for comparison\n",
    "def plot_histograms(original_df, transformed_df, features):\n",
    "    cont_features = len(features)\n",
    "    fig, axs = plt.subplots(cont_features, 2, figsize=(15, cont_features * 5))\n",
    "\n",
    "    for i, feature in enumerate(features):\n",
    "        # Plot original histograms\n",
    "        sns.histplot(original_df[feature], bins=30, kde=True, ax=axs[i, 0], color='blue')\n",
    "        axs[i, 0].set_title(f'Original Histogram of {feature}')\n",
    "        axs[i, 0].set_xlabel(feature)\n",
    "        axs[i, 0].set_ylabel('Frequency')\n",
    "\n",
    "        # Plot transformed histograms\n",
    "        sns.histplot(transformed_df[feature], bins=30, kde=True, ax=axs[i, 1], color='green')\n",
    "        axs[i, 1].set_title(f'Transformed Histogram of {feature}')\n",
    "        axs[i, 1].set_xlabel(feature)\n",
    "        axs[i, 1].set_ylabel('Frequency')\n",
    "\n",
    "    plt.tight_layout()\n",
    "    plt.show()\n",
    "\n",
    "# Plot histograms of original and transformed features\n",
    "plot_histograms(df, df_transformed, cont_features)\n",
    "df = df_transformed.copy()\n"
   ],
   "metadata": {
    "colab": {
     "base_uri": "https://localhost:8080/",
     "height": 1000
    },
    "id": "jpBMnXxGpfH9",
    "executionInfo": {
     "status": "ok",
     "timestamp": 1721979914156,
     "user_tz": -180,
     "elapsed": 3159,
     "user": {
      "displayName": "Zeeshan Imran",
      "userId": "14034811337666499856"
     }
    },
    "outputId": "77a5e61a-c58e-4d4c-b0b0-a76a2d440997"
   },
   "outputs": [],
   "execution_count": null
  },
  {
   "cell_type": "code",
   "source": [
    "!pip install imbalanced-learn"
   ],
   "metadata": {
    "colab": {
     "base_uri": "https://localhost:8080/"
    },
    "id": "UsmlMCbjt1jY",
    "executionInfo": {
     "status": "ok",
     "timestamp": 1721941596783,
     "user_tz": -180,
     "elapsed": 9004,
     "user": {
      "displayName": "Zeeshan Imran",
      "userId": "14034811337666499856"
     }
    },
    "outputId": "cf81b42a-6cf2-4806-f507-f4905fd77ea8"
   },
   "outputs": [],
   "execution_count": null
  },
  {
   "cell_type": "code",
   "source": [
    "from sklearn.model_selection import train_test_split\n",
    "from imblearn.combine import SMOTEENN\n",
    "\n",
    "X = df.drop('stroke', axis=1)\n",
    "y = df['stroke']\n",
    "\n",
    "# Split the data into training and testing sets\n",
    "X_train, X_test, y_train, y_test = train_test_split(X, y, test_size=0.2, random_state=42)\n",
    "\n",
    "# Apply SMOTEENN to the training set\n",
    "smote_enn = SMOTEENN(random_state=42)\n",
    "X_train_resampled, y_train_resampled = smote_enn.fit_resample(X_train, y_train)\n",
    "\n",
    "# Check the distribution of the target variable after applying SMOTEENN\n",
    "print(\"Original target variable distribution:\")\n",
    "print(y_train.value_counts())\n",
    "print(\"\\nTarget variable distribution after applying SMOTEENN:\")\n",
    "print(y_train_resampled.value_counts())\n",
    "\n",
    "# Check the shape of the data before and after SMOTEENN\n",
    "print(\"\\nOriginal shape:\", X_train.shape, y_train.shape)\n",
    "print(\"New shape after SMOTEENN:\", X_train_resampled.shape, y_train_resampled.shape)\n"
   ],
   "metadata": {
    "colab": {
     "base_uri": "https://localhost:8080/"
    },
    "id": "0OzR3iS9t5hl",
    "executionInfo": {
     "status": "ok",
     "timestamp": 1721979920990,
     "user_tz": -180,
     "elapsed": 1801,
     "user": {
      "displayName": "Zeeshan Imran",
      "userId": "14034811337666499856"
     }
    },
    "outputId": "d4c4b2d1-99c2-426f-ac19-b6c664541db6"
   },
   "outputs": [],
   "execution_count": null
  },
  {
   "cell_type": "code",
   "source": [
    "!pip install catboost"
   ],
   "metadata": {
    "colab": {
     "base_uri": "https://localhost:8080/"
    },
    "collapsed": true,
    "id": "TruLT9FECN8s",
    "executionInfo": {
     "status": "ok",
     "timestamp": 1721980502232,
     "user_tz": -180,
     "elapsed": 14507,
     "user": {
      "displayName": "Zeeshan Imran",
      "userId": "14034811337666499856"
     }
    },
    "outputId": "f4c9a85c-2d77-4b24-b1f5-a5089dd28e46"
   },
   "outputs": [],
   "execution_count": null
  },
  {
   "cell_type": "code",
   "source": [
    "from sklearn.ensemble import RandomForestClassifier, AdaBoostClassifier, GradientBoostingClassifier\n",
    "from sklearn.linear_model import LogisticRegression\n",
    "from sklearn.neighbors import KNeighborsClassifier\n",
    "from sklearn.tree import DecisionTreeClassifier\n",
    "from sklearn.svm import SVC\n",
    "from sklearn.metrics import accuracy_score, classification_report,ConfusionMatrixDisplay, \\\n",
    "                            precision_score, recall_score, f1_score, roc_auc_score,roc_curve\n",
    "from xgboost import XGBClassifier\n",
    "from catboost import CatBoostClassifier\n",
    "\n",
    "\n",
    "\n",
    "\n",
    "def evaluate_clf(true, predicted):\n",
    "    acc = accuracy_score(true, predicted) # Calculate Accuracy\n",
    "    f1 = f1_score(true, predicted) # Calculate F1-score\n",
    "    precision = precision_score(true, predicted) # Calculate Precision\n",
    "    recall = recall_score(true, predicted)  # Calculate Recall\n",
    "    roc_auc = roc_auc_score(true, predicted) #Calculate Roc\n",
    "    return acc, f1 , precision, recall, roc_auc\n",
    "\n",
    "def evaluate_models(X, y, models):\n",
    "\n",
    "    # separate dataset into train and test\n",
    "    X_train, X_test, y_train, y_test = train_test_split(X,y,test_size=0.2,random_state=42)\n",
    "\n",
    "    models_list = []\n",
    "    accuracy_list = []\n",
    "    auc= []\n",
    "\n",
    "    for i in range(len(list(models))):\n",
    "        model = list(models.values())[i]\n",
    "        model.fit(X_train, y_train) # Train model\n",
    "\n",
    "        # Make predictions\n",
    "        y_train_pred = model.predict(X_train)\n",
    "        y_test_pred = model.predict(X_test)\n",
    "\n",
    "        # Training set performance\n",
    "        model_train_accuracy, model_train_f1,model_train_precision,\\\n",
    "        model_train_recall,model_train_rocauc_score=evaluate_clf(y_train ,y_train_pred)\n",
    "\n",
    "\n",
    "        # Test set performance\n",
    "        model_test_accuracy,model_test_f1,model_test_precision,\\\n",
    "        model_test_recall,model_test_rocauc_score=evaluate_clf(y_test, y_test_pred)\n",
    "\n",
    "        print(list(models.keys())[i])\n",
    "        models_list.append(list(models.keys())[i])\n",
    "\n",
    "        print('Model performance for Training set')\n",
    "        print(\"- Accuracy: {:.4f}\".format(model_train_accuracy))\n",
    "        print('- F1 score: {:.4f}'.format(model_train_f1))\n",
    "        print('- Precision: {:.4f}'.format(model_train_precision))\n",
    "        print('- Recall: {:.4f}'.format(model_train_recall))\n",
    "        print('- Roc Auc Score: {:.4f}'.format(model_train_rocauc_score))\n",
    "\n",
    "        print('----------------------------------')\n",
    "\n",
    "        print('Model performance for Test set')\n",
    "        print('- Accuracy: {:.4f}'.format(model_test_accuracy))\n",
    "        accuracy_list.append(model_test_accuracy)\n",
    "        print('- F1 score: {:.4f}'.format(model_test_f1))\n",
    "        print('- Precision: {:.4f}'.format(model_test_precision))\n",
    "        print('- Recall: {:.4f}'.format(model_test_recall))\n",
    "        print('- Roc Auc Score: {:.4f}'.format(model_test_rocauc_score))\n",
    "        auc.append(model_test_rocauc_score)\n",
    "        print('='*35)\n",
    "        print('\\n')\n",
    "\n",
    "    report=pd.DataFrame(list(zip(models_list, accuracy_list)), columns=['Model Name', 'Accuracy']).sort_values(by=['Accuracy'], ascending=False)\n",
    "\n",
    "    return report\n",
    "\n",
    "models = {\n",
    "    \"Random Forest\": RandomForestClassifier(),\n",
    "    \"Decision Tree\": DecisionTreeClassifier(),\n",
    "    \"Gradient Boosting\": GradientBoostingClassifier(),\n",
    "    \"Logistic Regression\": LogisticRegression(),\n",
    "     \"K-Neighbors Classifier\": KNeighborsClassifier(),\n",
    "    \"XGBClassifier\": XGBClassifier(),\n",
    "     \"CatBoosting Classifier\": CatBoostClassifier(verbose=False),\n",
    "     \"Support Vector Classifier\": SVC(),\n",
    "    \"AdaBoost Classifier\": AdaBoostClassifier()\n",
    "\n",
    "}\n",
    "\n",
    "\n",
    "base_model_report =evaluate_models(X=X_train_resampled, y=y_train_resampled, models=models)\n",
    "print(base_model_report)\n",
    "\n",
    "## Hyper parameter Tuning\n",
    "\n",
    "# Initialize few parameter for Hyperparamter tuning\n",
    "\n",
    "xgboost_params = {\n",
    "    'max_depth':range(3,10,2),\n",
    "    'min_child_weight':range(1,6,2)\n",
    "}\n",
    "\n",
    "cb_params = {\n",
    "    'iterations': [100, 200],\n",
    "    'learning_rate': [0.01, 0.1],\n",
    "    'depth': [3, 6]\n",
    "}\n",
    "\n",
    "knn_params = {\n",
    "    \"algorithm\": ['auto', 'ball_tree', 'kd_tree','brute'],\n",
    "    \"weights\": ['uniform', 'distance'],\n",
    "    \"n_neighbors\": [3, 4, 5, 7, 9],\n",
    "}\n",
    "\n",
    "\n",
    "from sklearn.model_selection import RandomizedSearchCV\n",
    "\n",
    "\n",
    "randomcv_models = [\n",
    "    ('XGBoost', XGBClassifier(), xgboost_params),\n",
    "    (\"CatBoost\", CatBoostClassifier(), cb_params),\n",
    "    (\"KNN\", KNeighborsClassifier(), knn_params)\n",
    "]\n",
    "\n",
    "\n",
    "model_param = {}\n",
    "for name, model, params in randomcv_models:\n",
    "    random = RandomizedSearchCV(estimator=model,\n",
    "                                   param_distributions=params,\n",
    "                                   n_iter=100,\n",
    "                                   cv=3,\n",
    "                                   verbose=2,\n",
    "                                   n_jobs=-1)\n",
    "    random.fit(X_train_resampled, y_train_resampled)\n",
    "    model_param[name] = random.best_params_\n",
    "\n",
    "for model_name in model_param:\n",
    "    print(f\"---------------- Best Params for {model_name} -------------------\")\n",
    "    print(model_param[model_name])\n",
    "\n",
    "\n",
    "\n",
    "from sklearn.metrics import roc_auc_score,roc_curve\n",
    "best_models = {\n",
    "    \"CatBoostClassifier\": CatBoostClassifier(**model_param['CatBoost']),\n",
    "    \"KNeighborsClassifier\": KNeighborsClassifier(**model_param['KNN']),\n",
    "    \"XGBClassifier\": XGBClassifier(**model_param['XGBoost'],n_jobs=-1),\n",
    "}\n",
    "tuned_report =evaluate_models(X=X_train_resampled, y=y_train_resampled, models=best_models)\n",
    "print(tuned_report)\n",
    "\n",
    "\n",
    "\n"
   ],
   "metadata": {
    "colab": {
     "base_uri": "https://localhost:8080/"
    },
    "id": "Q3mG4x7qBQZu",
    "executionInfo": {
     "status": "ok",
     "timestamp": 1721981175250,
     "user_tz": -180,
     "elapsed": 65111,
     "user": {
      "displayName": "Zeeshan Imran",
      "userId": "14034811337666499856"
     }
    },
    "outputId": "44f110d6-7309-4fc6-9378-c5d77c9121cc"
   },
   "outputs": [],
   "execution_count": null
  },
  {
   "metadata": {},
   "cell_type": "code",
   "source": "",
   "outputs": [],
   "execution_count": null
  }
 ]
}
